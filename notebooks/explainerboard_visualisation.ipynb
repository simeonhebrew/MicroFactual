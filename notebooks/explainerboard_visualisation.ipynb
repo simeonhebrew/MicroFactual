{
 "cells": [
  {
   "cell_type": "code",
   "execution_count": 11,
   "id": "1574994b",
   "metadata": {},
   "outputs": [],
   "source": [
    "from sklearn.model_selection import train_test_split\n",
    "from microfactual.data_processing import load_data, filter_data, clr_transform\n",
    "from microfactual.modeling import train_model\n",
    "from explainerdashboard import ClassifierExplainer, ExplainerDashboard"
   ]
  },
  {
   "cell_type": "code",
   "execution_count": 12,
   "id": "aa3a138b",
   "metadata": {},
   "outputs": [],
   "source": [
    "abundance_path = \"../datasets/abundance_crc.txt\"\n",
    "metadata_path = \"../datasets/metadata_crc.txt\"\n",
    "target_column = \"Group\"\n",
    "abundance, labels = load_data(\n",
    "    abundance_file=abundance_path,\n",
    "    metadata_file=metadata_path,\n",
    "    target_column=target_column,\n",
    ")\n",
    "filtered_data = filter_data(abundance)\n",
    "clr_data = clr_transform(filtered_data)"
   ]
  },
  {
   "cell_type": "code",
   "execution_count": 13,
   "id": "3932c26d",
   "metadata": {},
   "outputs": [],
   "source": [
    "# split data\n",
    "train_x, test_x, train_y, test_y = train_test_split(\n",
    "    clr_data, labels, test_size=0.2, random_state=42, stratify=labels\n",
    ")\n",
    "# %%\n",
    "train_x.columns = train_x.columns.str.replace(r\"[.{}]\", \"_\", regex=True)\n",
    "model = train_model(train_x, train_y, n_jobs=3, cv_splits=5, n_estimators=100)"
   ]
  },
  {
   "cell_type": "code",
   "execution_count": 14,
   "id": "55a86967",
   "metadata": {},
   "outputs": [
    {
     "name": "stdout",
     "output_type": "stream",
     "text": [
      "WARNING: Parameter shap='guess', but failed to guess the type of shap explainer to use for GridSearchCV. Defaulting to the model agnostic shap.KernelExplainer (shap='kernel'). However this will be slow, so if your model is compatible with e.g. shap.TreeExplainer or shap.LinearExplainer then pass shap='tree' or shap='linear'!\n",
      "WARNING: For shap='kernel', shap interaction values can unfortunately not be calculated!\n",
      "Note: shap values for shap='kernel' normally get calculated against X_background, but paramater X_background=None, so setting X_background=shap.sample(X, 50)...\n",
      "Generating self.shap_explainer = shap.KernelExplainer(model, X, link='identity')\n",
      "Building ExplainerDashboard..\n",
      "Detected notebook environment, consider setting mode='external', mode='inline' or mode='jupyterlab' to keep the notebook interactive while the dashboard is running...\n",
      "For this type of model and model_output interactions don't work, so setting shap_interaction=False...\n",
      "The explainer object has no decision_trees property. so setting decision_trees=False...\n",
      "Generating layout...\n",
      "Calculating shap values...\n"
     ]
    },
    {
     "data": {
      "application/vnd.jupyter.widget-view+json": {
       "model_id": "1f3f5ea9a8e74d2583c882ca4aaa419e",
       "version_major": 2,
       "version_minor": 0
      },
      "text/plain": [
       "  0%|          | 0/29 [00:00<?, ?it/s]"
      ]
     },
     "metadata": {},
     "output_type": "display_data"
    },
    {
     "name": "stdout",
     "output_type": "stream",
     "text": [
      "Calculating prediction probabilities...\n",
      "Calculating metrics...\n",
      "Calculating confusion matrices...\n",
      "Calculating classification_dfs...\n",
      "Calculating roc auc curves...\n",
      "Calculating pr auc curves...\n",
      "Calculating liftcurve_dfs...\n",
      "Calculating dependencies...\n",
      "Calculating permutation importances (if slow, try setting n_jobs parameter)...\n",
      "Calculating pred_percentiles...\n",
      "Calculating predictions...\n",
      "Reminder: you can store the explainer (including calculated dependencies) with explainer.dump('explainer.joblib') and reload with e.g. ClassifierExplainer.from_file('explainer.joblib')\n",
      "Registering callbacks...\n",
      "Starting ExplainerDashboard on http://192.168.1.34:8050\n"
     ]
    },
    {
     "data": {
      "text/html": [
       "\n",
       "        <iframe\n",
       "            width=\"100%\"\n",
       "            height=\"650\"\n",
       "            src=\"http://0.0.0.0:8050/\"\n",
       "            frameborder=\"0\"\n",
       "            allowfullscreen\n",
       "            \n",
       "        ></iframe>\n",
       "        "
      ],
      "text/plain": [
       "<IPython.lib.display.IFrame at 0x168958e10>"
      ]
     },
     "metadata": {},
     "output_type": "display_data"
    },
    {
     "name": "stderr",
     "output_type": "stream",
     "text": [
      "Exception ignored in: <function ResourceTracker.__del__ at 0x102f2fba0>\n",
      "Traceback (most recent call last):\n",
      "  File \"/Users/lawrenceadu-gyamfi/.uv/python/versions/cpython-3.13.3-macos-aarch64-none/lib/python3.13/multiprocessing/resource_tracker.py\", line 82, in __del__\n",
      "  File \"/Users/lawrenceadu-gyamfi/.uv/python/versions/cpython-3.13.3-macos-aarch64-none/lib/python3.13/multiprocessing/resource_tracker.py\", line 91, in _stop\n",
      "  File \"/Users/lawrenceadu-gyamfi/.uv/python/versions/cpython-3.13.3-macos-aarch64-none/lib/python3.13/multiprocessing/resource_tracker.py\", line 116, in _stop_locked\n",
      "ChildProcessError: [Errno 10] No child processes\n",
      "Exception ignored in: <function ResourceTracker.__del__ at 0x106d8bba0>\n",
      "Traceback (most recent call last):\n",
      "  File \"/Users/lawrenceadu-gyamfi/.uv/python/versions/cpython-3.13.3-macos-aarch64-none/lib/python3.13/multiprocessing/resource_tracker.py\", line 82, in __del__\n",
      "  File \"/Users/lawrenceadu-gyamfi/.uv/python/versions/cpython-3.13.3-macos-aarch64-none/lib/python3.13/multiprocessing/resource_tracker.py\", line 91, in _stop\n",
      "  File \"/Users/lawrenceadu-gyamfi/.uv/python/versions/cpython-3.13.3-macos-aarch64-none/lib/python3.13/multiprocessing/resource_tracker.py\", line 116, in _stop_locked\n",
      "ChildProcessError: [Errno 10] No child processes\n",
      "Exception ignored in: <function ResourceTracker.__del__ at 0x10343bba0>\n",
      "Traceback (most recent call last):\n",
      "  File \"/Users/lawrenceadu-gyamfi/.uv/python/versions/cpython-3.13.3-macos-aarch64-none/lib/python3.13/multiprocessing/resource_tracker.py\", line 82, in __del__\n",
      "  File \"/Users/lawrenceadu-gyamfi/.uv/python/versions/cpython-3.13.3-macos-aarch64-none/lib/python3.13/multiprocessing/resource_tracker.py\", line 91, in _stop\n",
      "  File \"/Users/lawrenceadu-gyamfi/.uv/python/versions/cpython-3.13.3-macos-aarch64-none/lib/python3.13/multiprocessing/resource_tracker.py\", line 116, in _stop_locked\n",
      "ChildProcessError: [Errno 10] No child processes\n"
     ]
    }
   ],
   "source": [
    "\n",
    "# Sanitize feature names in the dataset\n",
    "test_x.columns = test_x.columns.str.replace(r\"[.{}]\", \"_\", regex=True)\n",
    "ExplainerDashboard(ClassifierExplainer(model, test_x, test_y)).run()"
   ]
  },
  {
   "cell_type": "code",
   "execution_count": null,
   "id": "c96977b7",
   "metadata": {},
   "outputs": [],
   "source": []
  }
 ],
 "metadata": {
  "kernelspec": {
   "display_name": "env_microbiome",
   "language": "python",
   "name": "python3"
  },
  "language_info": {
   "codemirror_mode": {
    "name": "ipython",
    "version": 3
   },
   "file_extension": ".py",
   "mimetype": "text/x-python",
   "name": "python",
   "nbconvert_exporter": "python",
   "pygments_lexer": "ipython3",
   "version": "3.13.3"
  }
 },
 "nbformat": 4,
 "nbformat_minor": 5
}
